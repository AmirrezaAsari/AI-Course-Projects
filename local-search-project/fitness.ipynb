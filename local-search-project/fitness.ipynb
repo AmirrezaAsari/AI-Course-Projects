{
 "cells": [
  {
   "cell_type": "code",
   "execution_count": 1,
   "metadata": {},
   "outputs": [],
   "source": [
    "import numpy as np\n",
    "from sklearn.neighbors import KNeighborsClassifier\n",
    "from sklearn.model_selection import train_test_split\n",
    "from sklearn.preprocessing import StandardScaler\n",
    "from sklearn.metrics import accuracy_score"
   ]
  },
  {
   "cell_type": "code",
   "execution_count": 2,
   "metadata": {},
   "outputs": [],
   "source": [
    "def load_dataset():\n",
    "    data = np.loadtxt(\"unknown.data\", delimiter=',')\n",
    "    # Split into features (X) and labels (y)\n",
    "    y = data[:, 0]          # First column is the target class\n",
    "    X = data[:, 1:]         # All other columns are features\n",
    "    \n",
    "    return X, y\n",
    "\n",
    "# Load and scale data  \n",
    "X, y = load_dataset()\n",
    "scaler = StandardScaler()\n",
    "X = scaler.fit_transform(X)"
   ]
  },
  {
   "cell_type": "code",
   "execution_count": 3,
   "metadata": {},
   "outputs": [],
   "source": [
    "def evaluate_accuracy(feature_subset, X, y):\n",
    "    \n",
    "    mask = feature_subset.astype(bool)\n",
    "    \n",
    "    if not np.any(mask):\n",
    "        return 0.0\n",
    "    \n",
    "    X_subset = X[:, mask]\n",
    "    X_train, X_test, y_train, y_test = train_test_split(X_subset, y, test_size=0.4, random_state=42)\n",
    "    \n",
    "    knn = KNeighborsClassifier(n_neighbors=5)\n",
    "    knn.fit(X_train, y_train)\n",
    "    \n",
    "    return knn.score(X_test, y_test)\n",
    "\n",
    "def fitness_function(chromosome):\n",
    "    num_selected = np.sum(chromosome)\n",
    "    fitness = evaluate_accuracy(chromosome, X, y)\n",
    "    if num_selected > 5:\n",
    "        penalty = (num_selected / chromosome.shape[0]) ** 2\n",
    "        fitness -= penalty\n",
    "    \n",
    "    return round(fitness * 100, 2)\n",
    "    "
   ]
  },
  {
   "cell_type": "code",
   "execution_count": 4,
   "metadata": {},
   "outputs": [
    {
     "name": "stdout",
     "output_type": "stream",
     "text": [
      "Chromosome --> [1 0 1 0 0 1 0 1 1 1 1 0 0] \n",
      "   fitness --> 64.06\n"
     ]
    }
   ],
   "source": [
    "# Sample Chromosome\n",
    "chrom = np.zeros(13, dtype=int)\n",
    "chrom_rand = np.random.randint(0, 2, 13)\n",
    "print(f\"Chromosome --> {chrom_rand} \\n   fitness --> {fitness_function(chrom_rand)}\")"
   ]
  }
 ],
 "metadata": {
  "kernelspec": {
   "display_name": "Python 3",
   "language": "python",
   "name": "python3"
  },
  "language_info": {
   "codemirror_mode": {
    "name": "ipython",
    "version": 3
   },
   "file_extension": ".py",
   "mimetype": "text/x-python",
   "name": "python",
   "nbconvert_exporter": "python",
   "pygments_lexer": "ipython3",
   "version": "3.10.4"
  }
 },
 "nbformat": 4,
 "nbformat_minor": 2
}
