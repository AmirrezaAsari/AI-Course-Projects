{
  "metadata": {
    "kernelspec": {
      "name": "python",
      "display_name": "Python (Pyodide)",
      "language": "python"
    },
    "language_info": {
      "name": ""
    }
  },
  "nbformat_minor": 5,
  "nbformat": 4,
  "cells": [
    {
      "id": "1a8c0a4a",
      "cell_type": "markdown",
      "source": "\n# پروژه جستجوی مسیر پک‌من\n\nدر این پروژه، شما باید الگوریتم A* و یک تابع هیوریستیک مناسب (مثل فاصله منهتن) را پیاده‌سازی کنید تا پک‌من بتواند در یک محیط بازی دوبعدی ساده، مسیر بهینه برای رسیدن به غذا را پیدا کند. بخش‌هایی از کد به صورت آماده فراهم شده و تنها قسمت‌هایی که مربوط به منطق جستجو هستند باید توسط شما تکمیل شوند.\n\n## محیط بازی\nمحیط بازی به صورت یک ماتریس دو‌بعدی تعریف شده که شامل:\n- `#` : دیوار (قابل عبور نیست)\n- `.` : مسیر آزاد (قابل عبور)\n- `P` : موقعیت اولیه پک‌من\n- `F` : موقعیت غذا\n\n## وظایف اصلی شما:\n1. پیاده‌سازی الگوریتم A* در تابع `a_star_search`.\n2. نوشتن یک تابع هیوریستیک admissible (مثلاً فاصله منهتن) در `manhattan_heuristic`.\n\nهدف این است که پک‌من بتواند با استفاده از الگوریتم A* و تابع هیوریستیک، کوتاه‌ترین مسیر ممکن را از موقعیت فعلی‌اش به غذا پیدا کند.\n",
      "metadata": {}
    },
    {
      "id": "3d5fc533",
      "cell_type": "code",
      "source": "\nimport numpy as np\nimport matplotlib.pyplot as plt\nimport heapq\n\n\nclass PriorityQueue:\n    def __init__(self):\n        self.elements = []\n    \n    def is_empty(self):\n        return len(self.elements) == 0\n    \n    def push(self, item, priority):\n        heapq.heappush(self.elements, (priority, item))\n    \n    def pop(self):\n        return heapq.heappop(self.elements)[1]\n\n\nclass GameWorld:\n    def __init__(self):\n        # محیط بازی به صورت ماتریس: '#' = دیوار، '.' = مسیر، 'P' = پک‌من، 'F' = غذا\n        self.grid = np.array([\n            ['#', '#', '#', '#', '#', '#', '#', '#', '#', '#'],\n            ['#', 'P', '.', '.', '.', '.', '.', '.', '.', '#'],\n            ['#', '.', '#', '#', '#', '#', '#', '#', '.', '#'],\n            ['#', '.', '.', '.', '.', '.', '.', '.', '.', '#'],\n            ['#', '#', '#', '#', '#', '#', '#', '#', '.', '#'],\n            ['#', '.', '.', '.', '.', '.', '.', '.', '.', '#'],\n            ['#', '.', '#', '#', '#', '#', '#', '#', '.', '#'],\n            ['#', '.', '.', '.', '.', '.', '.', '.', 'F', '#'],\n            ['#', '#', '#', '#', '#', '#', '#', '#', '#', '#']\n        ])\n        self.start = (1, 1) \n        self.goal = (7, 8)  \n\n    def is_valid_move(self, position):\n        x, y = position\n        return (0 <= x < self.grid.shape[0] and \n                0 <= y < self.grid.shape[1] and \n                self.grid[x, y] != '#')\n\n    def get_successors(self, position):\n        x, y = position\n        moves = [(-1, 0), (1, 0), (0, -1), (0, 1)] \n        successors = []\n        for dx, dy in moves:\n            next_pos = (x + dx, y + dy)\n            if self.is_valid_move(next_pos):\n                successors.append((next_pos, 1)) \n        return successors\n\n    def is_goal(self, position):\n        return position == self.goal\n\n    def display(self, path=None):\n        grid = self.grid.copy()\n        if path:\n            for x, y in path:\n                if grid[x, y] not in ['P', 'F']:\n                    grid[x, y] = '*'\n        plt.imshow([[0 if c == '#' else 1 if c == '.' else 2 if c == 'P' else 3 if c == 'F' else 4 for c in row] for row in grid], cmap='viridis')\n        plt.title('محیط بازی (P: پک‌من، F: غذا، *: مسیر)')\n        plt.show()\n\n\ndef null_heuristic(position, game_world):\n    return 0\n\n# تابع هیوریستیک که باید کامل شود\ndef manhattan_heuristic(position, game_world):\n\n\n    pass\n\n# الگوریتم A* که باید کامل شود\ndef a_star_search(game_world, heuristic):\n\n    \n    pass\n\n\ndef test_search_algorithm(game_world, search_fn, heuristic):\n    print(f\"اجرای {search_fn.__name__}...\")\n    path = search_fn(game_world, heuristic)\n    if path:\n        print(f\"مسیر پیدا شد: {path}\")\n        print(f\"طول مسیر: {len(path)}\")\n        game_world.display(path)\n    else:\n        print(\"هیچ مسیری پیدا نشد!\")\n\n\ngame_world = GameWorld()\ngame_world.display()  \ntest_search_algorithm(game_world, a_star_search, manhattan_heuristic)",
      "metadata": {
        "trusted": true
      },
      "outputs": [],
      "execution_count": null
    },
    {
      "id": "07cd5b9d-c440-4162-9bae-fdca49cfadd9",
      "cell_type": "code",
      "source": "",
      "metadata": {
        "trusted": true
      },
      "outputs": [],
      "execution_count": null
    }
  ]
}