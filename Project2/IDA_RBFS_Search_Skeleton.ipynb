{
 "cells": [
  {
   "cell_type": "markdown",
   "id": "aea2f52a",
   "metadata": {},
   "source": [
    "###  شرح پروژه:\n",
    "در این پروژه، یک گراف وزن‌دار به همراه تابع هیوریستیک در اختیار شما قرار گرفته است. شما باید مسیر بهینه از یک گره مبدأ (که کاربر وارد می‌کند) تا گره مقصد مشخص‌شده (`ControlBase`) را با استفاده از دو الگوریتم زیر بیابید:\n",
    "\n",
    "- الگوریتم **IDA***\n",
    "- الگوریتم **RBFS**\n",
    "\n",
    " **ساختار برنامه و گراف از پیش آماده شده‌اند. فقط کافی‌ست توابع مربوط به الگوریتم‌ها را کامل کنید.**\n"
   ]
  },
  {
   "cell_type": "code",
   "execution_count": 1,
   "id": "98944e9b",
   "metadata": {},
   "outputs": [],
   "source": [
    "import math\n",
    "# گراف مسیرها\n",
    "map_graph = {\n",
    "    'PixelTown': {'BitCity': 4, 'CodeValley': 3},\n",
    "    'BitCity': {'PixelTown': 4, 'LoopHill': 5, 'RamVillage': 7},\n",
    "    'CodeValley': {'PixelTown': 3, 'StackLake': 4},\n",
    "    'LoopHill': {'BitCity': 5, 'HeapBridge': 3},\n",
    "    'RamVillage': {'BitCity': 7, 'CacheCliff': 5},\n",
    "    'StackLake': {'CodeValley': 4, 'CacheCliff': 6},\n",
    "    'HeapBridge': {'LoopHill': 3, 'ControlBase': 8},\n",
    "    'CacheCliff': {'RamVillage': 5, 'StackLake': 6, 'ControlBase': 7},\n",
    "    'ControlBase': {}\n",
    "}\n",
    "\n",
    "# هیورستیک تا ControlBase\n",
    "heuristic = {\n",
    "    'PixelTown': 10,\n",
    "    'BitCity': 9,\n",
    "    'CodeValley': 9,\n",
    "    'LoopHill': 6,\n",
    "    'RamVillage': 6,\n",
    "    'StackLake': 7,\n",
    "    'HeapBridge': 3,\n",
    "    'CacheCliff': 3,\n",
    "    'ControlBase': 0\n",
    "}\n"
   ]
  },
  {
   "cell_type": "code",
   "execution_count": 2,
   "id": "aafeb3e4",
   "metadata": {},
   "outputs": [],
   "source": [
    "\n",
    "def ida_star(start, goal):\n",
    "    \"\"\"\n",
    "    پیاده‌سازی الگوریتم IDA*\n",
    "    ورودی: گره شروع و هدف\n",
    "    خروجی: مسیر بهینه به‌صورت لیست از شهرها\n",
    "    \"\"\"\n",
    "    def dfs(current, goal, g, threshold, path, visited):\n",
    "        f = g + heuristic[current]\n",
    "        if f > threshold:\n",
    "            return None, f\n",
    "\n",
    "        path.append(current)\n",
    "        visited.add(current)\n",
    "\n",
    "        if current == goal:\n",
    "            return path, f\n",
    "\n",
    "        min_threshold = math.inf\n",
    "\n",
    "        for neighbor, cost in map_graph[current].items():\n",
    "            if neighbor not in visited:\n",
    "                result, temp_threshold = dfs(neighbor, goal, g + cost, threshold, path.copy(), visited.copy())\n",
    "                if result is not None:\n",
    "                    return result, temp_threshold\n",
    "                min_threshold = min(min_threshold, temp_threshold)\n",
    "\n",
    "        return None, min_threshold\n",
    "\n",
    "    threshold = heuristic[start]\n",
    "\n",
    "    while True:\n",
    "        result, temp_threshold = dfs(start, goal, 0, threshold, [], set())\n",
    "        if result is not None:\n",
    "            return result\n",
    "        if temp_threshold == math.inf:\n",
    "            return None \n",
    "        threshold = temp_threshold\n",
    "    pass\n"
   ]
  },
  {
   "cell_type": "code",
   "execution_count": 15,
   "id": "a22fbbd8",
   "metadata": {},
   "outputs": [],
   "source": [
    "\n",
    "def rbfs(start, goal):\n",
    "    \"\"\"\n",
    "    پیاده‌سازی الگوریتم RBFS\n",
    "    ورودی: گره شروع و هدف\n",
    "    خروجی: مسیر بهینه و هزینه کل\n",
    "    \"\"\"\n",
    "    def recursive_rbfs(current, g, f_limit, path, visited):\n",
    "        f = max(g + heuristic[current], f_limit)  \n",
    "\n",
    "        if f > f_limit:\n",
    "            return None, f, None\n",
    "\n",
    "        path.append(current)\n",
    "        visited.add(current)\n",
    "\n",
    "        if current == goal:\n",
    "            return path, f, g\n",
    "        \n",
    "        if not map_graph[current]:\n",
    "            return None, math.inf, None\n",
    "    \n",
    "        children = []\n",
    "        for neighbor, cost in map_graph[current].items():\n",
    "            if neighbor not in visited:\n",
    "                child_g = g + cost\n",
    "                child_f = child_g + heuristic[neighbor]\n",
    "                children.append((neighbor, child_g, child_f))\n",
    "\n",
    "        if not children:\n",
    "            return None, math.inf, None\n",
    "\n",
    "        while True:\n",
    "            children.sort(key=lambda x: x[2])\n",
    "            best = children[0]\n",
    "\n",
    "            if best[2] > f_limit:\n",
    "                return None, best[2], None\n",
    "\n",
    "            alt_f = children[1][2] if len(children) > 1 else math.inf\n",
    "\n",
    "            result, best_f, cost = recursive_rbfs(best[0], best[1], min(f_limit, alt_f), path.copy(), visited.copy())\n",
    "\n",
    "            children[0] = (best[0], best[1], best_f)\n",
    "\n",
    "            if result is not None:\n",
    "                return result, best_f, cost\n",
    "\n",
    "    result, _, cost = recursive_rbfs(start, 0, math.inf, [], set())\n",
    "    return result, cost\n",
    "    pass\n"
   ]
  },
  {
   "cell_type": "code",
   "execution_count": 16,
   "id": "c859a801",
   "metadata": {},
   "outputs": [
    {
     "name": "stdin",
     "output_type": "stream",
     "text": [
      "لطفاً نام شهر مبدأ را وارد کنید:  BitCity\n"
     ]
    },
    {
     "name": "stdout",
     "output_type": "stream",
     "text": [
      "روش IDA*:\n",
      "مسیر: BitCity -> LoopHill -> HeapBridge -> ControlBase\n",
      "هزینه کل: 16\n"
     ]
    },
    {
     "ename": "ValueError",
     "evalue": "not enough values to unpack (expected 3, got 2)",
     "output_type": "error",
     "traceback": [
      "\u001b[1;31m---------------------------------------------------------------------------\u001b[0m",
      "\u001b[1;31mValueError\u001b[0m                                Traceback (most recent call last)",
      "Cell \u001b[1;32mIn[16], line 12\u001b[0m\n\u001b[0;32m      9\u001b[0m \u001b[38;5;28mprint\u001b[39m(\u001b[38;5;124m\"\u001b[39m\u001b[38;5;124mهزینه کل:\u001b[39m\u001b[38;5;124m\"\u001b[39m, cost_ida)\n\u001b[0;32m     11\u001b[0m \u001b[38;5;66;03m# اجرای RBFS\u001b[39;00m\n\u001b[1;32m---> 12\u001b[0m path_rbfs, _, cost_rbfs \u001b[38;5;241m=\u001b[39m rbfs(start_city, \u001b[38;5;124m'\u001b[39m\u001b[38;5;124mControlBase\u001b[39m\u001b[38;5;124m'\u001b[39m)\n\u001b[0;32m     13\u001b[0m \u001b[38;5;28mprint\u001b[39m(\u001b[38;5;124m\"\u001b[39m\u001b[38;5;130;01m\\n\u001b[39;00m\u001b[38;5;124mروش RBFS:\u001b[39m\u001b[38;5;124m\"\u001b[39m)\n\u001b[0;32m     14\u001b[0m \u001b[38;5;28mprint\u001b[39m(\u001b[38;5;124m\"\u001b[39m\u001b[38;5;124mمسیر:\u001b[39m\u001b[38;5;124m\"\u001b[39m, \u001b[38;5;124m\"\u001b[39m\u001b[38;5;124m -> \u001b[39m\u001b[38;5;124m\"\u001b[39m\u001b[38;5;241m.\u001b[39mjoin(path_rbfs))\n",
      "\u001b[1;31mValueError\u001b[0m: not enough values to unpack (expected 3, got 2)"
     ]
    }
   ],
   "source": [
    "\n",
    "# دریافت ورودی و اجرای الگوریتم‌ها\n",
    "start_city = input(\"لطفاً نام شهر مبدأ را وارد کنید: \").strip()\n",
    "\n",
    "# اجرای IDA*\n",
    "path_ida = ida_star(start_city, 'ControlBase')\n",
    "cost_ida = sum(map_graph[path_ida[i]][path_ida[i+1]] for i in range(len(path_ida)-1))\n",
    "print(\"روش IDA*:\")\n",
    "print(\"مسیر:\", \" -> \".join(path_ida))\n",
    "print(\"هزینه کل:\", cost_ida)\n",
    "\n",
    "# اجرای RBFS\n",
    "path_rbfs, cost_rbfs = rbfs(start_city, 'ControlBase')\n",
    "print(\"\\nروش RBFS:\")\n",
    "print(\"مسیر:\", \" -> \".join(path_rbfs))\n",
    "print(\"هزینه کل:\", cost_rbfs)\n"
   ]
  },
  {
   "cell_type": "code",
   "execution_count": null,
   "id": "04d51fb2-e33c-4cce-92f4-faaf2d38b11a",
   "metadata": {},
   "outputs": [],
   "source": []
  }
 ],
 "metadata": {
  "kernelspec": {
   "display_name": "Python [conda env:base] *",
   "language": "python",
   "name": "conda-base-py"
  },
  "language_info": {
   "codemirror_mode": {
    "name": "ipython",
    "version": 3
   },
   "file_extension": ".py",
   "mimetype": "text/x-python",
   "name": "python",
   "nbconvert_exporter": "python",
   "pygments_lexer": "ipython3",
   "version": "3.12.7"
  }
 },
 "nbformat": 4,
 "nbformat_minor": 5
}
