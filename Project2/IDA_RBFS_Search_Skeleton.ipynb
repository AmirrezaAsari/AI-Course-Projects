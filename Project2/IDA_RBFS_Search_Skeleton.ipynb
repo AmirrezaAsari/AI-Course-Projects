{
 "cells": [
  {
   "cell_type": "markdown",
   "id": "aea2f52a",
   "metadata": {},
   "source": [
    "###  شرح پروژه:\n",
    "در این پروژه، یک گراف وزن‌دار به همراه تابع هیوریستیک در اختیار شما قرار گرفته است. شما باید مسیر بهینه از یک گره مبدأ (که کاربر وارد می‌کند) تا گره مقصد مشخص‌شده (`ControlBase`) را با استفاده از دو الگوریتم زیر بیابید:\n",
    "\n",
    "- الگوریتم **IDA***\n",
    "- الگوریتم **RBFS**\n",
    "\n",
    " **ساختار برنامه و گراف از پیش آماده شده‌اند. فقط کافی‌ست توابع مربوط به الگوریتم‌ها را کامل کنید.**\n"
   ]
  },
  {
   "cell_type": "code",
   "execution_count": 1,
   "id": "98944e9b",
   "metadata": {},
   "outputs": [],
   "source": [
    "import math\n",
    "# گراف مسیرها\n",
    "map_graph = {\n",
    "    'PixelTown': {'BitCity': 4, 'CodeValley': 3},\n",
    "    'BitCity': {'PixelTown': 4, 'LoopHill': 5, 'RamVillage': 7},\n",
    "    'CodeValley': {'PixelTown': 3, 'StackLake': 4},\n",
    "    'LoopHill': {'BitCity': 5, 'HeapBridge': 3},\n",
    "    'RamVillage': {'BitCity': 7, 'CacheCliff': 5},\n",
    "    'StackLake': {'CodeValley': 4, 'CacheCliff': 6},\n",
    "    'HeapBridge': {'LoopHill': 3, 'ControlBase': 8},\n",
    "    'CacheCliff': {'RamVillage': 5, 'StackLake': 6, 'ControlBase': 7},\n",
    "    'ControlBase': {}\n",
    "}\n",
    "\n",
    "# هیورستیک تا ControlBase\n",
    "heuristic = {\n",
    "    'PixelTown': 10,\n",
    "    'BitCity': 9,\n",
    "    'CodeValley': 9,\n",
    "    'LoopHill': 6,\n",
    "    'RamVillage': 6,\n",
    "    'StackLake': 7,\n",
    "    'HeapBridge': 3,\n",
    "    'CacheCliff': 3,\n",
    "    'ControlBase': 0\n",
    "}\n"
   ]
  },
  {
   "cell_type": "code",
   "execution_count": 2,
   "id": "aafeb3e4",
   "metadata": {},
   "outputs": [],
   "source": [
    "\n",
    "def ida_star(start, goal):\n",
    "    \"\"\"\n",
    "    پیاده‌سازی الگوریتم IDA*\n",
    "    ورودی: گره شروع و هدف\n",
    "    خروجی: مسیر بهینه به‌صورت لیست از شهرها\n",
    "    \"\"\"\n",
    "    def dfs(current, goal, g, threshold, path, visited):\n",
    "        f = g + heuristic[current]\n",
    "        if f > threshold:\n",
    "            return None, f\n",
    "\n",
    "        path.append(current)\n",
    "        visited.add(current)\n",
    "\n",
    "        if current == goal:\n",
    "            return path, f\n",
    "\n",
    "        min_threshold = math.inf\n",
    "\n",
    "        for neighbor, cost in map_graph[current].items():\n",
    "            if neighbor not in visited:\n",
    "                result, temp_threshold = dfs(neighbor, goal, g + cost, threshold, path.copy(), visited.copy())\n",
    "                if result is not None:\n",
    "                    return result, temp_threshold\n",
    "                min_threshold = min(min_threshold, temp_threshold)\n",
    "\n",
    "        return None, min_threshold\n",
    "\n",
    "    threshold = heuristic[start]\n",
    "\n",
    "    while True:\n",
    "        result, temp_threshold = dfs(start, goal, 0, threshold, [], set())\n",
    "        if result is not None:\n",
    "            return result\n",
    "        if temp_threshold == math.inf:\n",
    "            return None  # مسیر پیدا نشد\n",
    "        threshold = temp_threshold\n",
    "    pass\n"
   ]
  },
  {
   "cell_type": "code",
   "execution_count": 3,
   "id": "a22fbbd8",
   "metadata": {},
   "outputs": [],
   "source": [
    "\n",
    "def rbfs(start, goal):\n",
    "    \"\"\"\n",
    "    پیاده‌سازی الگوریتم RBFS\n",
    "    ورودی: گره شروع و هدف\n",
    "    خروجی: مسیر بهینه و هزینه کل\n",
    "    \"\"\"\n",
    "    # TODO: کد الگوریتم RBFS را اینجا بنویسید\n",
    "    pass\n"
   ]
  },
  {
   "cell_type": "code",
   "execution_count": 4,
   "id": "c859a801",
   "metadata": {},
   "outputs": [
    {
     "name": "stdin",
     "output_type": "stream",
     "text": [
      "لطفاً نام شهر مبدأ را وارد کنید:  BitCity\n"
     ]
    },
    {
     "name": "stdout",
     "output_type": "stream",
     "text": [
      "روش IDA*:\n",
      "مسیر: BitCity -> LoopHill -> HeapBridge -> ControlBase\n",
      "هزینه کل: 16\n"
     ]
    }
   ],
   "source": [
    "\n",
    "# دریافت ورودی و اجرای الگوریتم‌ها\n",
    "start_city = input(\"لطفاً نام شهر مبدأ را وارد کنید: \").strip()\n",
    "\n",
    "# اجرای IDA*\n",
    "path_ida = ida_star(start_city, 'ControlBase')\n",
    "cost_ida = sum(map_graph[path_ida[i]][path_ida[i+1]] for i in range(len(path_ida)-1))\n",
    "print(\"روش IDA*:\")\n",
    "print(\"مسیر:\", \" -> \".join(path_ida))\n",
    "print(\"هزینه کل:\", cost_ida)\n",
    "\n",
    "# # اجرای RBFS\n",
    "# path_rbfs, cost_rbfs = rbfs(start_city, 'ControlBase')\n",
    "# print(\"\\nروش RBFS:\")\n",
    "# print(\"مسیر:\", \" -> \".join(path_rbfs))\n",
    "# print(\"هزینه کل:\", cost_rbfs)\n"
   ]
  },
  {
   "cell_type": "code",
   "execution_count": null,
   "id": "eb8e3178-0309-4fc0-9dd1-3d8744610743",
   "metadata": {},
   "outputs": [],
   "source": []
  }
 ],
 "metadata": {
  "kernelspec": {
   "display_name": "Python [conda env:base] *",
   "language": "python",
   "name": "conda-base-py"
  },
  "language_info": {
   "codemirror_mode": {
    "name": "ipython",
    "version": 3
   },
   "file_extension": ".py",
   "mimetype": "text/x-python",
   "name": "python",
   "nbconvert_exporter": "python",
   "pygments_lexer": "ipython3",
   "version": "3.12.7"
  }
 },
 "nbformat": 4,
 "nbformat_minor": 5
}
