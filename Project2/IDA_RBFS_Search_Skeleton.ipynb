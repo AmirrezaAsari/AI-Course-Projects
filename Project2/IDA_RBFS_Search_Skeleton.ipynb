{
  "metadata": {
    "kernelspec": {
      "name": "python",
      "display_name": "Python (Pyodide)",
      "language": "python"
    },
    "language_info": {
      "codemirror_mode": {
        "name": "python",
        "version": 3
      },
      "file_extension": ".py",
      "mimetype": "text/x-python",
      "name": "python",
      "nbconvert_exporter": "python",
      "pygments_lexer": "ipython3",
      "version": "3.8"
    }
  },
  "nbformat_minor": 5,
  "nbformat": 4,
  "cells": [
    {
      "id": "aea2f52a",
      "cell_type": "markdown",
      "source": "###  شرح پروژه:\nدر این پروژه، یک گراف وزن‌دار به همراه تابع هیوریستیک در اختیار شما قرار گرفته است. شما باید مسیر بهینه از یک گره مبدأ (که کاربر وارد می‌کند) تا گره مقصد مشخص‌شده (`ControlBase`) را با استفاده از دو الگوریتم زیر بیابید:\n\n- الگوریتم **IDA***\n- الگوریتم **RBFS**\n\n **ساختار برنامه و گراف از پیش آماده شده‌اند. فقط کافی‌ست توابع مربوط به الگوریتم‌ها را کامل کنید.**\n",
      "metadata": {}
    },
    {
      "id": "98944e9b",
      "cell_type": "code",
      "source": "\n# گراف مسیرها\nmap_graph = {\n    'PixelTown': {'BitCity': 4, 'CodeValley': 3},\n    'BitCity': {'PixelTown': 4, 'LoopHill': 5, 'RamVillage': 7},\n    'CodeValley': {'PixelTown': 3, 'StackLake': 4},\n    'LoopHill': {'BitCity': 5, 'HeapBridge': 3},\n    'RamVillage': {'BitCity': 7, 'CacheCliff': 5},\n    'StackLake': {'CodeValley': 4, 'CacheCliff': 6},\n    'HeapBridge': {'LoopHill': 3, 'ControlBase': 8},\n    'CacheCliff': {'RamVillage': 5, 'StackLake': 6, 'ControlBase': 7},\n    'ControlBase': {}\n}\n\n# هیورستیک تا ControlBase\nheuristic = {\n    'PixelTown': 10,\n    'BitCity': 9,\n    'CodeValley': 9,\n    'LoopHill': 6,\n    'RamVillage': 6,\n    'StackLake': 7,\n    'HeapBridge': 3,\n    'CacheCliff': 3,\n    'ControlBase': 0\n}\n",
      "metadata": {
        "trusted": true
      },
      "outputs": [],
      "execution_count": 1
    },
    {
      "id": "aafeb3e4",
      "cell_type": "code",
      "source": "\ndef ida_star(start, goal):\n    \"\"\"\n    پیاده‌سازی الگوریتم IDA*\n    ورودی: گره شروع و هدف\n    خروجی: مسیر بهینه به‌صورت لیست از شهرها\n    \"\"\"\n    # TODO: کد الگوریتم IDA* را اینجا بنویسید\n    pass\n",
      "metadata": {},
      "outputs": [],
      "execution_count": null
    },
    {
      "id": "a22fbbd8",
      "cell_type": "code",
      "source": "\ndef rbfs(start, goal):\n    \"\"\"\n    پیاده‌سازی الگوریتم RBFS\n    ورودی: گره شروع و هدف\n    خروجی: مسیر بهینه و هزینه کل\n    \"\"\"\n    # TODO: کد الگوریتم RBFS را اینجا بنویسید\n    pass\n",
      "metadata": {},
      "outputs": [],
      "execution_count": null
    },
    {
      "id": "c859a801",
      "cell_type": "code",
      "source": "\n# دریافت ورودی و اجرای الگوریتم‌ها\nstart_city = input(\"لطفاً نام شهر مبدأ را وارد کنید: \").strip()\n\n# اجرای IDA*\npath_ida = ida_star(start_city, 'ControlBase')\ncost_ida = sum(map_graph[path_ida[i]][path_ida[i+1]] for i in range(len(path_ida)-1))\nprint(\"روش IDA*:\")\nprint(\"مسیر:\", \" -> \".join(path_ida))\nprint(\"هزینه کل:\", cost_ida)\n\n# اجرای RBFS\npath_rbfs, cost_rbfs = rbfs(start_city, 'ControlBase')\nprint(\"\\nروش RBFS:\")\nprint(\"مسیر:\", \" -> \".join(path_rbfs))\nprint(\"هزینه کل:\", cost_rbfs)\n",
      "metadata": {
        "trusted": true
      },
      "outputs": [
        {
          "ename": "<class 'AttributeError'>",
          "evalue": "'PyodideFuture' object has no attribute 'strip'",
          "traceback": [
            "\u001b[0;31m---------------------------------------------------------------------------\u001b[0m",
            "\u001b[0;31mAttributeError\u001b[0m                            Traceback (most recent call last)",
            "Cell \u001b[0;32mIn[2], line 2\u001b[0m\n\u001b[1;32m      1\u001b[0m \u001b[38;5;66;03m# دریافت ورودی و اجرای الگوریتم‌ها\u001b[39;00m\n\u001b[0;32m----> 2\u001b[0m start_city \u001b[38;5;241m=\u001b[39m \u001b[38;5;28;43minput\u001b[39;49m\u001b[43m(\u001b[49m\u001b[38;5;124;43m\"\u001b[39;49m\u001b[38;5;124;43mلطفاً نام شهر مبدأ را وارد کنید: \u001b[39;49m\u001b[38;5;124;43m\"\u001b[39;49m\u001b[43m)\u001b[49m\u001b[38;5;241;43m.\u001b[39;49m\u001b[43mstrip\u001b[49m()\n\u001b[1;32m      4\u001b[0m \u001b[38;5;66;03m# اجرای IDA*\u001b[39;00m\n\u001b[1;32m      5\u001b[0m path_ida \u001b[38;5;241m=\u001b[39m ida_star(start_city, \u001b[38;5;124m'\u001b[39m\u001b[38;5;124mControlBase\u001b[39m\u001b[38;5;124m'\u001b[39m)\n",
            "\u001b[0;31mAttributeError\u001b[0m: 'PyodideFuture' object has no attribute 'strip'"
          ],
          "output_type": "error"
        }
      ],
      "execution_count": 2
    },
    {
      "id": "eb8e3178-0309-4fc0-9dd1-3d8744610743",
      "cell_type": "code",
      "source": "",
      "metadata": {
        "trusted": true
      },
      "outputs": [],
      "execution_count": null
    }
  ]
}