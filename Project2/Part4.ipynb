{
 "cells": [
  {
   "cell_type": "markdown",
   "id": "c206d8f5-fdcf-437f-acfe-0fe955267087",
   "metadata": {},
   "source": [
    "<div dir=\"rtl\" style=\"text-align: right;\">\n",
    "    <h1>الگوریتم A* : </h1>\n",
    "\tدر الگوریتم A*، برای هر گره یک مقدار f(n) = g(n) + h(n) در نظر میگیریم، مقدار g(n) بیانگر هزینه مسیر از نقطه شروع تا گره فعلی است، و h(n) یا تابع هیوریستیک، هزینه باقیمانده از گره فعلی تا هدف است.\n",
    "در این الگوریتم، ما با اولویت مسیری که کمترین هزینه را دارد پیش می‌رویم تا به گره هدف برسیم، برای این منظور، از یک صف اولویت استفاده میکنیم تا گره با f(n) مینیمم، اول بسط داده شود، در هر مرحله، گره های همسایه را بررسی کرده و به صف اضافه میکنیم و تا زمانی که به هدف برسیم همین کار را ادامه می‌دهیم.\n",
    "    <h1>الگوریتم IDA* : </h1>\n",
    "در الگوریتم IDA*، در هر مرحله، یک محدودیتی برای f(n) میگذاریم و یک مقدار دومین f(n) مناسب را ذخیره کرده و محدودیت را برابر آن می‌گذاریم و جستجو می‌کنیم، وقتی به گره ای رسیدیم که f(n) آن بیشتر از محدودیت هزینه ما باشد، به سراغ گره ای با دومینf(n) مناسب میرویم و به همین ترتیب ادامه می‌دهیم تا به هدف برسیم. در واقع در هر مرحله DFS سرچ میکنیم ولی با محدودیت f(n)، این الگوریتم نسبت به A* مصرف حافظه بسیار کمتری دارد اما به لحاظ زمانی بیشتر طول می‌کشد. (ممکن است مسیر های مشابه را تکرار کند).\n",
    "    <h1>الگوریتم SMA* :</h1> \n",
    "\tاین الگوریتم، مثل A* است ، اما با محدودیت حافظه، به این شکل که ما یک محدودیت حافظه (تعداد گره هایی که می‌تواند در حافظه نگه دارد) تعریف می‌کنیم، و سرچ A* می‌کنیم و زمانی که محدودیت حافظه ما پر می‌شود، الگوریتم گره هایی با بدترین f(n)  را حذف می‌کند و مقدار f گره های حذف شده را به والد آنها اضافه می‌کند تا در صورت نیاز، بتوان به آن ها بازگشت. این الگوریتم، مصرف حافظه بهینه تری نسبت به A* دارد و از لحاظ زمانی نیز از IDA* بهتر است ولی در صورتی که حافظه کافی نباشد، ممکن است به جواب نرسد.\n",
    "\n",
    "</div>"
   ]
  },
  {
   "cell_type": "markdown",
   "id": "5afba3e3-9b1c-48d2-bd3d-4c74b876d358",
   "metadata": {},
   "source": [
    "<br>\n",
    "<br>\n",
    "\n",
    "<div dir=\"rtl\" style=\"text-align: right;\"> \n",
    "    <h2>مقایسه الگوریتم ها</h2>\n",
    "    ببخشید فارسی نوشتنش یکم سخته اینجا رو انگلیسی مینویسم\n",
    "</div>\n",
    "\n",
    "<h4>Time</h4>\n",
    "<p>\n",
    "    In A* and IDA* algorithms, the time complexity is O(b^d). But in IDA*, it's more likely that we go through the same path several times, so in \n",
    "    action, IDA* could take more time than A*. <br>\n",
    "    For SMA*, time depends on the memory threshold that we define, but at worst case, time complexity can go up to O(b^d).\n",
    "</p>\n",
    "<h4>Space</h4>\n",
    "<p>\n",
    "    In A*, we need to save all nodes in memory, and the space complexity would be O(b^d). <br>\n",
    "    In IDA*, we only need to save our current path, so the space complexity would be O(d). <br>\n",
    "    In SMA*, we define the maximum space so it depends on that. <br>\n",
    "    </p>\n",
    "<h4>Optimality</h4>\n",
    "<p>\n",
    "    In A*, if our heuristic function is admissible, the algorithm is optimal. <br>\n",
    "    IDA* is also optimal with the same condition. <br>\n",
    "    In SMA*, is optimal only if the defined memory is enough. <br>\n",
    "</p>"
   ]
  }
 ],
 "metadata": {
  "kernelspec": {
   "display_name": "Python [conda env:base] *",
   "language": "python",
   "name": "conda-base-py"
  },
  "language_info": {
   "codemirror_mode": {
    "name": "ipython",
    "version": 3
   },
   "file_extension": ".py",
   "mimetype": "text/x-python",
   "name": "python",
   "nbconvert_exporter": "python",
   "pygments_lexer": "ipython3",
   "version": "3.12.7"
  }
 },
 "nbformat": 4,
 "nbformat_minor": 5
}
